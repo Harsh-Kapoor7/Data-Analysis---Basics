{
 "cells": [
  {
   "cell_type": "code",
   "execution_count": 13,
   "id": "be069f2c",
   "metadata": {},
   "outputs": [],
   "source": [
    "import pandas as pd"
   ]
  },
  {
   "cell_type": "code",
   "execution_count": 3,
   "id": "f107bed0",
   "metadata": {},
   "outputs": [],
   "source": [
    "df = pd.read_csv('googleplaystore.csv')\n",
    "df = df.dropna()"
   ]
  },
  {
   "cell_type": "code",
   "execution_count": 4,
   "id": "f14e7d82",
   "metadata": {},
   "outputs": [
    {
     "data": {
      "text/html": [
       "<div>\n",
       "<style scoped>\n",
       "    .dataframe tbody tr th:only-of-type {\n",
       "        vertical-align: middle;\n",
       "    }\n",
       "\n",
       "    .dataframe tbody tr th {\n",
       "        vertical-align: top;\n",
       "    }\n",
       "\n",
       "    .dataframe thead th {\n",
       "        text-align: right;\n",
       "    }\n",
       "</style>\n",
       "<table border=\"1\" class=\"dataframe\">\n",
       "  <thead>\n",
       "    <tr style=\"text-align: right;\">\n",
       "      <th></th>\n",
       "      <th>App</th>\n",
       "      <th>Category</th>\n",
       "      <th>Rating</th>\n",
       "      <th>Reviews</th>\n",
       "      <th>Size</th>\n",
       "      <th>Installs</th>\n",
       "      <th>Type</th>\n",
       "      <th>Price</th>\n",
       "      <th>Content Rating</th>\n",
       "      <th>Genres</th>\n",
       "      <th>Last Updated</th>\n",
       "      <th>Current Ver</th>\n",
       "      <th>Android Ver</th>\n",
       "    </tr>\n",
       "  </thead>\n",
       "  <tbody>\n",
       "    <tr>\n",
       "      <th>0</th>\n",
       "      <td>Photo Editor &amp; Candy Camera &amp; Grid &amp; ScrapBook</td>\n",
       "      <td>ART_AND_DESIGN</td>\n",
       "      <td>4.1</td>\n",
       "      <td>159</td>\n",
       "      <td>19M</td>\n",
       "      <td>10,000+</td>\n",
       "      <td>Free</td>\n",
       "      <td>0</td>\n",
       "      <td>Everyone</td>\n",
       "      <td>Art &amp; Design</td>\n",
       "      <td>January 7, 2018</td>\n",
       "      <td>1.0.0</td>\n",
       "      <td>4.0.3 and up</td>\n",
       "    </tr>\n",
       "    <tr>\n",
       "      <th>1</th>\n",
       "      <td>Coloring book moana</td>\n",
       "      <td>ART_AND_DESIGN</td>\n",
       "      <td>3.9</td>\n",
       "      <td>967</td>\n",
       "      <td>14M</td>\n",
       "      <td>500,000+</td>\n",
       "      <td>Free</td>\n",
       "      <td>0</td>\n",
       "      <td>Everyone</td>\n",
       "      <td>Art &amp; Design;Pretend Play</td>\n",
       "      <td>January 15, 2018</td>\n",
       "      <td>2.0.0</td>\n",
       "      <td>4.0.3 and up</td>\n",
       "    </tr>\n",
       "    <tr>\n",
       "      <th>2</th>\n",
       "      <td>U Launcher Lite – FREE Live Cool Themes, Hide ...</td>\n",
       "      <td>ART_AND_DESIGN</td>\n",
       "      <td>4.7</td>\n",
       "      <td>87510</td>\n",
       "      <td>8.7M</td>\n",
       "      <td>5,000,000+</td>\n",
       "      <td>Free</td>\n",
       "      <td>0</td>\n",
       "      <td>Everyone</td>\n",
       "      <td>Art &amp; Design</td>\n",
       "      <td>August 1, 2018</td>\n",
       "      <td>1.2.4</td>\n",
       "      <td>4.0.3 and up</td>\n",
       "    </tr>\n",
       "    <tr>\n",
       "      <th>3</th>\n",
       "      <td>Sketch - Draw &amp; Paint</td>\n",
       "      <td>ART_AND_DESIGN</td>\n",
       "      <td>4.5</td>\n",
       "      <td>215644</td>\n",
       "      <td>25M</td>\n",
       "      <td>50,000,000+</td>\n",
       "      <td>Free</td>\n",
       "      <td>0</td>\n",
       "      <td>Teen</td>\n",
       "      <td>Art &amp; Design</td>\n",
       "      <td>June 8, 2018</td>\n",
       "      <td>Varies with device</td>\n",
       "      <td>4.2 and up</td>\n",
       "    </tr>\n",
       "    <tr>\n",
       "      <th>4</th>\n",
       "      <td>Pixel Draw - Number Art Coloring Book</td>\n",
       "      <td>ART_AND_DESIGN</td>\n",
       "      <td>4.3</td>\n",
       "      <td>967</td>\n",
       "      <td>2.8M</td>\n",
       "      <td>100,000+</td>\n",
       "      <td>Free</td>\n",
       "      <td>0</td>\n",
       "      <td>Everyone</td>\n",
       "      <td>Art &amp; Design;Creativity</td>\n",
       "      <td>June 20, 2018</td>\n",
       "      <td>1.1</td>\n",
       "      <td>4.4 and up</td>\n",
       "    </tr>\n",
       "    <tr>\n",
       "      <th>...</th>\n",
       "      <td>...</td>\n",
       "      <td>...</td>\n",
       "      <td>...</td>\n",
       "      <td>...</td>\n",
       "      <td>...</td>\n",
       "      <td>...</td>\n",
       "      <td>...</td>\n",
       "      <td>...</td>\n",
       "      <td>...</td>\n",
       "      <td>...</td>\n",
       "      <td>...</td>\n",
       "      <td>...</td>\n",
       "      <td>...</td>\n",
       "    </tr>\n",
       "    <tr>\n",
       "      <th>10834</th>\n",
       "      <td>FR Calculator</td>\n",
       "      <td>FAMILY</td>\n",
       "      <td>4.0</td>\n",
       "      <td>7</td>\n",
       "      <td>2.6M</td>\n",
       "      <td>500+</td>\n",
       "      <td>Free</td>\n",
       "      <td>0</td>\n",
       "      <td>Everyone</td>\n",
       "      <td>Education</td>\n",
       "      <td>June 18, 2017</td>\n",
       "      <td>1.0.0</td>\n",
       "      <td>4.1 and up</td>\n",
       "    </tr>\n",
       "    <tr>\n",
       "      <th>10836</th>\n",
       "      <td>Sya9a Maroc - FR</td>\n",
       "      <td>FAMILY</td>\n",
       "      <td>4.5</td>\n",
       "      <td>38</td>\n",
       "      <td>53M</td>\n",
       "      <td>5,000+</td>\n",
       "      <td>Free</td>\n",
       "      <td>0</td>\n",
       "      <td>Everyone</td>\n",
       "      <td>Education</td>\n",
       "      <td>July 25, 2017</td>\n",
       "      <td>1.48</td>\n",
       "      <td>4.1 and up</td>\n",
       "    </tr>\n",
       "    <tr>\n",
       "      <th>10837</th>\n",
       "      <td>Fr. Mike Schmitz Audio Teachings</td>\n",
       "      <td>FAMILY</td>\n",
       "      <td>5.0</td>\n",
       "      <td>4</td>\n",
       "      <td>3.6M</td>\n",
       "      <td>100+</td>\n",
       "      <td>Free</td>\n",
       "      <td>0</td>\n",
       "      <td>Everyone</td>\n",
       "      <td>Education</td>\n",
       "      <td>July 6, 2018</td>\n",
       "      <td>1.0</td>\n",
       "      <td>4.1 and up</td>\n",
       "    </tr>\n",
       "    <tr>\n",
       "      <th>10839</th>\n",
       "      <td>The SCP Foundation DB fr nn5n</td>\n",
       "      <td>BOOKS_AND_REFERENCE</td>\n",
       "      <td>4.5</td>\n",
       "      <td>114</td>\n",
       "      <td>Varies with device</td>\n",
       "      <td>1,000+</td>\n",
       "      <td>Free</td>\n",
       "      <td>0</td>\n",
       "      <td>Mature 17+</td>\n",
       "      <td>Books &amp; Reference</td>\n",
       "      <td>January 19, 2015</td>\n",
       "      <td>Varies with device</td>\n",
       "      <td>Varies with device</td>\n",
       "    </tr>\n",
       "    <tr>\n",
       "      <th>10840</th>\n",
       "      <td>iHoroscope - 2018 Daily Horoscope &amp; Astrology</td>\n",
       "      <td>LIFESTYLE</td>\n",
       "      <td>4.5</td>\n",
       "      <td>398307</td>\n",
       "      <td>19M</td>\n",
       "      <td>10,000,000+</td>\n",
       "      <td>Free</td>\n",
       "      <td>0</td>\n",
       "      <td>Everyone</td>\n",
       "      <td>Lifestyle</td>\n",
       "      <td>July 25, 2018</td>\n",
       "      <td>Varies with device</td>\n",
       "      <td>Varies with device</td>\n",
       "    </tr>\n",
       "  </tbody>\n",
       "</table>\n",
       "<p>9360 rows × 13 columns</p>\n",
       "</div>"
      ],
      "text/plain": [
       "                                                     App             Category  \\\n",
       "0         Photo Editor & Candy Camera & Grid & ScrapBook       ART_AND_DESIGN   \n",
       "1                                    Coloring book moana       ART_AND_DESIGN   \n",
       "2      U Launcher Lite – FREE Live Cool Themes, Hide ...       ART_AND_DESIGN   \n",
       "3                                  Sketch - Draw & Paint       ART_AND_DESIGN   \n",
       "4                  Pixel Draw - Number Art Coloring Book       ART_AND_DESIGN   \n",
       "...                                                  ...                  ...   \n",
       "10834                                      FR Calculator               FAMILY   \n",
       "10836                                   Sya9a Maroc - FR               FAMILY   \n",
       "10837                   Fr. Mike Schmitz Audio Teachings               FAMILY   \n",
       "10839                      The SCP Foundation DB fr nn5n  BOOKS_AND_REFERENCE   \n",
       "10840      iHoroscope - 2018 Daily Horoscope & Astrology            LIFESTYLE   \n",
       "\n",
       "       Rating Reviews                Size     Installs  Type Price  \\\n",
       "0         4.1     159                 19M      10,000+  Free     0   \n",
       "1         3.9     967                 14M     500,000+  Free     0   \n",
       "2         4.7   87510                8.7M   5,000,000+  Free     0   \n",
       "3         4.5  215644                 25M  50,000,000+  Free     0   \n",
       "4         4.3     967                2.8M     100,000+  Free     0   \n",
       "...       ...     ...                 ...          ...   ...   ...   \n",
       "10834     4.0       7                2.6M         500+  Free     0   \n",
       "10836     4.5      38                 53M       5,000+  Free     0   \n",
       "10837     5.0       4                3.6M         100+  Free     0   \n",
       "10839     4.5     114  Varies with device       1,000+  Free     0   \n",
       "10840     4.5  398307                 19M  10,000,000+  Free     0   \n",
       "\n",
       "      Content Rating                     Genres      Last Updated  \\\n",
       "0           Everyone               Art & Design   January 7, 2018   \n",
       "1           Everyone  Art & Design;Pretend Play  January 15, 2018   \n",
       "2           Everyone               Art & Design    August 1, 2018   \n",
       "3               Teen               Art & Design      June 8, 2018   \n",
       "4           Everyone    Art & Design;Creativity     June 20, 2018   \n",
       "...              ...                        ...               ...   \n",
       "10834       Everyone                  Education     June 18, 2017   \n",
       "10836       Everyone                  Education     July 25, 2017   \n",
       "10837       Everyone                  Education      July 6, 2018   \n",
       "10839     Mature 17+          Books & Reference  January 19, 2015   \n",
       "10840       Everyone                  Lifestyle     July 25, 2018   \n",
       "\n",
       "              Current Ver         Android Ver  \n",
       "0                   1.0.0        4.0.3 and up  \n",
       "1                   2.0.0        4.0.3 and up  \n",
       "2                   1.2.4        4.0.3 and up  \n",
       "3      Varies with device          4.2 and up  \n",
       "4                     1.1          4.4 and up  \n",
       "...                   ...                 ...  \n",
       "10834               1.0.0          4.1 and up  \n",
       "10836                1.48          4.1 and up  \n",
       "10837                 1.0          4.1 and up  \n",
       "10839  Varies with device  Varies with device  \n",
       "10840  Varies with device  Varies with device  \n",
       "\n",
       "[9360 rows x 13 columns]"
      ]
     },
     "execution_count": 4,
     "metadata": {},
     "output_type": "execute_result"
    }
   ],
   "source": [
    "df"
   ]
  },
  {
   "cell_type": "markdown",
   "id": "ed16dbdf",
   "metadata": {},
   "source": [
    "## Q1. Total no. of apps in each category"
   ]
  },
  {
   "cell_type": "code",
   "execution_count": 5,
   "id": "c096a430",
   "metadata": {},
   "outputs": [
    {
     "data": {
      "text/plain": [
       "{'ART_AND_DESIGN': 61,\n",
       " 'AUTO_AND_VEHICLES': 73,\n",
       " 'BEAUTY': 42,\n",
       " 'BOOKS_AND_REFERENCE': 178,\n",
       " 'BUSINESS': 303,\n",
       " 'COMICS': 58,\n",
       " 'COMMUNICATION': 328,\n",
       " 'DATING': 195,\n",
       " 'EDUCATION': 155,\n",
       " 'ENTERTAINMENT': 149,\n",
       " 'EVENTS': 45,\n",
       " 'FINANCE': 323,\n",
       " 'FOOD_AND_DRINK': 109,\n",
       " 'HEALTH_AND_FITNESS': 297,\n",
       " 'HOUSE_AND_HOME': 76,\n",
       " 'LIBRARIES_AND_DEMO': 64,\n",
       " 'LIFESTYLE': 314,\n",
       " 'GAME': 1097,\n",
       " 'FAMILY': 1746,\n",
       " 'MEDICAL': 350,\n",
       " 'SOCIAL': 259,\n",
       " 'SHOPPING': 238,\n",
       " 'PHOTOGRAPHY': 317,\n",
       " 'SPORTS': 319,\n",
       " 'TRAVEL_AND_LOCAL': 226,\n",
       " 'TOOLS': 733,\n",
       " 'PERSONALIZATION': 312,\n",
       " 'PRODUCTIVITY': 351,\n",
       " 'PARENTING': 50,\n",
       " 'WEATHER': 75,\n",
       " 'VIDEO_PLAYERS': 160,\n",
       " 'NEWS_AND_MAGAZINES': 233,\n",
       " 'MAPS_AND_NAVIGATION': 124}"
      ]
     },
     "execution_count": 5,
     "metadata": {},
     "output_type": "execute_result"
    }
   ],
   "source": [
    "categories = {}\n",
    "\n",
    "for name in df['Category'].unique():\n",
    "    ct = 0\n",
    "    for i in df['Category']:\n",
    "        if(i == name):\n",
    "            ct += 1\n",
    "    categories[name] = ct\n",
    "categories"
   ]
  },
  {
   "cell_type": "code",
   "execution_count": 6,
   "id": "d427a704",
   "metadata": {},
   "outputs": [
    {
     "name": "stdout",
     "output_type": "stream",
     "text": [
      "ART_AND_DESIGN 61\n",
      "AUTO_AND_VEHICLES 73\n",
      "BEAUTY 42\n",
      "BOOKS_AND_REFERENCE 178\n",
      "BUSINESS 303\n",
      "COMICS 58\n",
      "COMMUNICATION 328\n",
      "DATING 195\n",
      "EDUCATION 155\n",
      "ENTERTAINMENT 149\n",
      "EVENTS 45\n",
      "FINANCE 323\n",
      "FOOD_AND_DRINK 109\n",
      "HEALTH_AND_FITNESS 297\n",
      "HOUSE_AND_HOME 76\n",
      "LIBRARIES_AND_DEMO 64\n",
      "LIFESTYLE 314\n",
      "GAME 1097\n",
      "FAMILY 1746\n",
      "MEDICAL 350\n",
      "SOCIAL 259\n",
      "SHOPPING 238\n",
      "PHOTOGRAPHY 317\n",
      "SPORTS 319\n",
      "TRAVEL_AND_LOCAL 226\n",
      "TOOLS 733\n",
      "PERSONALIZATION 312\n",
      "PRODUCTIVITY 351\n",
      "PARENTING 50\n",
      "WEATHER 75\n",
      "VIDEO_PLAYERS 160\n",
      "NEWS_AND_MAGAZINES 233\n",
      "MAPS_AND_NAVIGATION 124\n"
     ]
    }
   ],
   "source": [
    "for i in df['Category'].unique():\n",
    "    print(i, categories[i])"
   ]
  },
  {
   "cell_type": "markdown",
   "id": "5c094725",
   "metadata": {},
   "source": [
    "## Q2. Total no. of apps in each type"
   ]
  },
  {
   "cell_type": "code",
   "execution_count": 7,
   "id": "8a3e0bf7",
   "metadata": {},
   "outputs": [
    {
     "data": {
      "text/plain": [
       "{'Free': 8715, 'Paid': 645}"
      ]
     },
     "execution_count": 7,
     "metadata": {},
     "output_type": "execute_result"
    }
   ],
   "source": [
    "types = {}\n",
    "\n",
    "for name in df['Type'].unique():\n",
    "    ct = 0\n",
    "    for i in df['Type']:\n",
    "        if(i == name):\n",
    "            ct += 1\n",
    "    types[name] = ct\n",
    "types"
   ]
  },
  {
   "cell_type": "code",
   "execution_count": 8,
   "id": "46c11529",
   "metadata": {},
   "outputs": [
    {
     "name": "stdout",
     "output_type": "stream",
     "text": [
      "Free : 8715\n",
      "Paid : 645\n"
     ]
    }
   ],
   "source": [
    "for i in df['Type'].unique():\n",
    "    print(i, \":\", types[i])"
   ]
  },
  {
   "cell_type": "code",
   "execution_count": 9,
   "id": "d1b04744",
   "metadata": {},
   "outputs": [
    {
     "data": {
      "text/plain": [
       "{'ART_AND_DESIGN': 61,\n",
       " 'AUTO_AND_VEHICLES': 73,\n",
       " 'BEAUTY': 42,\n",
       " 'BOOKS_AND_REFERENCE': 178,\n",
       " 'BUSINESS': 303,\n",
       " 'COMICS': 58,\n",
       " 'COMMUNICATION': 328,\n",
       " 'DATING': 195,\n",
       " 'EDUCATION': 155,\n",
       " 'ENTERTAINMENT': 149,\n",
       " 'EVENTS': 45,\n",
       " 'FINANCE': 323,\n",
       " 'FOOD_AND_DRINK': 109,\n",
       " 'HEALTH_AND_FITNESS': 297,\n",
       " 'HOUSE_AND_HOME': 76,\n",
       " 'LIBRARIES_AND_DEMO': 64,\n",
       " 'LIFESTYLE': 314,\n",
       " 'GAME': 1097,\n",
       " 'FAMILY': 1746,\n",
       " 'MEDICAL': 350,\n",
       " 'SOCIAL': 259,\n",
       " 'SHOPPING': 238,\n",
       " 'PHOTOGRAPHY': 317,\n",
       " 'SPORTS': 319,\n",
       " 'TRAVEL_AND_LOCAL': 226,\n",
       " 'TOOLS': 733,\n",
       " 'PERSONALIZATION': 312,\n",
       " 'PRODUCTIVITY': 351,\n",
       " 'PARENTING': 50,\n",
       " 'WEATHER': 75,\n",
       " 'VIDEO_PLAYERS': 160,\n",
       " 'NEWS_AND_MAGAZINES': 233,\n",
       " 'MAPS_AND_NAVIGATION': 124}"
      ]
     },
     "execution_count": 9,
     "metadata": {},
     "output_type": "execute_result"
    }
   ],
   "source": [
    "# Revision\n",
    "categories = {}\n",
    "for i in df['Category'].unique():\n",
    "    ct = 0\n",
    "    for j in df['Category']:\n",
    "        if(j == i):\n",
    "            ct += 1\n",
    "    categories[i] = ct\n",
    "categories"
   ]
  },
  {
   "cell_type": "markdown",
   "id": "c94080cb",
   "metadata": {},
   "source": [
    "## Q3. Total no. of apps in each content-Rating"
   ]
  },
  {
   "cell_type": "code",
   "execution_count": 10,
   "id": "e2d0d9f2",
   "metadata": {},
   "outputs": [
    {
     "data": {
      "text/plain": [
       "{'Everyone': 7414,\n",
       " 'Teen': 1084,\n",
       " 'Everyone 10+': 397,\n",
       " 'Mature 17+': 461,\n",
       " 'Adults only 18+': 3,\n",
       " 'Unrated': 1}"
      ]
     },
     "execution_count": 10,
     "metadata": {},
     "output_type": "execute_result"
    }
   ],
   "source": [
    "content_rating = {}\n",
    "\n",
    "for name in df['Content Rating'].unique():\n",
    "    ct = 0\n",
    "    for i in df['Content Rating']:\n",
    "        if(i == name):\n",
    "            ct += 1\n",
    "    content_rating[name] = ct\n",
    "content_rating"
   ]
  },
  {
   "cell_type": "code",
   "execution_count": 11,
   "id": "e2aec238",
   "metadata": {},
   "outputs": [
    {
     "name": "stdout",
     "output_type": "stream",
     "text": [
      "Everyone : 7414\n",
      "Teen : 1084\n",
      "Everyone 10+ : 397\n",
      "Mature 17+ : 461\n",
      "Adults only 18+ : 3\n",
      "Unrated : 1\n"
     ]
    }
   ],
   "source": [
    "for i in df['Content Rating'].unique():\n",
    "    print(i, \":\", content_rating[i])"
   ]
  },
  {
   "cell_type": "code",
   "execution_count": 12,
   "id": "f9267a28",
   "metadata": {},
   "outputs": [
    {
     "data": {
      "text/plain": [
       "count     9360\n",
       "unique       2\n",
       "top       Free\n",
       "freq      8715\n",
       "Name: Type, dtype: object"
      ]
     },
     "execution_count": 12,
     "metadata": {},
     "output_type": "execute_result"
    }
   ],
   "source": [
    "df['Type'].describe()"
   ]
  },
  {
   "cell_type": "code",
   "execution_count": null,
   "id": "73bb95c6",
   "metadata": {},
   "outputs": [],
   "source": []
  },
  {
   "cell_type": "code",
   "execution_count": null,
   "id": "9630bff2",
   "metadata": {},
   "outputs": [],
   "source": []
  }
 ],
 "metadata": {
  "kernelspec": {
   "display_name": "Python 3 (ipykernel)",
   "language": "python",
   "name": "python3"
  },
  "language_info": {
   "codemirror_mode": {
    "name": "ipython",
    "version": 3
   },
   "file_extension": ".py",
   "mimetype": "text/x-python",
   "name": "python",
   "nbconvert_exporter": "python",
   "pygments_lexer": "ipython3",
   "version": "3.9.7"
  }
 },
 "nbformat": 4,
 "nbformat_minor": 5
}
