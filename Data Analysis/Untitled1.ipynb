{
 "cells": [
  {
   "cell_type": "code",
   "execution_count": 33,
   "id": "71cb0655",
   "metadata": {},
   "outputs": [],
   "source": [
    "import pandas as pd\n",
    "import numpy as np\n",
    "from sklearn.impute import SimpleImputer"
   ]
  },
  {
   "cell_type": "code",
   "execution_count": 34,
   "id": "b8be0557",
   "metadata": {},
   "outputs": [
    {
     "data": {
      "text/html": [
       "<div>\n",
       "<style scoped>\n",
       "    .dataframe tbody tr th:only-of-type {\n",
       "        vertical-align: middle;\n",
       "    }\n",
       "\n",
       "    .dataframe tbody tr th {\n",
       "        vertical-align: top;\n",
       "    }\n",
       "\n",
       "    .dataframe thead th {\n",
       "        text-align: right;\n",
       "    }\n",
       "</style>\n",
       "<table border=\"1\" class=\"dataframe\">\n",
       "  <thead>\n",
       "    <tr style=\"text-align: right;\">\n",
       "      <th></th>\n",
       "      <th>App</th>\n",
       "      <th>Category</th>\n",
       "      <th>Rating</th>\n",
       "      <th>Reviews</th>\n",
       "      <th>Size</th>\n",
       "      <th>Installs</th>\n",
       "      <th>Type</th>\n",
       "      <th>Price</th>\n",
       "      <th>Content Rating</th>\n",
       "      <th>Genres</th>\n",
       "      <th>Last Updated</th>\n",
       "      <th>Current Ver</th>\n",
       "      <th>Android Ver</th>\n",
       "    </tr>\n",
       "  </thead>\n",
       "  <tbody>\n",
       "    <tr>\n",
       "      <th>0</th>\n",
       "      <td>Photo Editor &amp; Candy Camera &amp; Grid &amp; ScrapBook</td>\n",
       "      <td>ART_AND_DESIGN</td>\n",
       "      <td>4.1</td>\n",
       "      <td>159</td>\n",
       "      <td>19M</td>\n",
       "      <td>10,000+</td>\n",
       "      <td>Free</td>\n",
       "      <td>0</td>\n",
       "      <td>Everyone</td>\n",
       "      <td>Art &amp; Design</td>\n",
       "      <td>January 7, 2018</td>\n",
       "      <td>1.0.0</td>\n",
       "      <td>4.0.3 and up</td>\n",
       "    </tr>\n",
       "    <tr>\n",
       "      <th>1</th>\n",
       "      <td>Coloring book moana</td>\n",
       "      <td>ART_AND_DESIGN</td>\n",
       "      <td>3.9</td>\n",
       "      <td>967</td>\n",
       "      <td>14M</td>\n",
       "      <td>500,000+</td>\n",
       "      <td>Free</td>\n",
       "      <td>0</td>\n",
       "      <td>Everyone</td>\n",
       "      <td>Art &amp; Design;Pretend Play</td>\n",
       "      <td>January 15, 2018</td>\n",
       "      <td>2.0.0</td>\n",
       "      <td>4.0.3 and up</td>\n",
       "    </tr>\n",
       "    <tr>\n",
       "      <th>2</th>\n",
       "      <td>U Launcher Lite – FREE Live Cool Themes, Hide ...</td>\n",
       "      <td>ART_AND_DESIGN</td>\n",
       "      <td>4.7</td>\n",
       "      <td>87510</td>\n",
       "      <td>8.7M</td>\n",
       "      <td>5,000,000+</td>\n",
       "      <td>Free</td>\n",
       "      <td>0</td>\n",
       "      <td>Everyone</td>\n",
       "      <td>Art &amp; Design</td>\n",
       "      <td>August 1, 2018</td>\n",
       "      <td>1.2.4</td>\n",
       "      <td>4.0.3 and up</td>\n",
       "    </tr>\n",
       "    <tr>\n",
       "      <th>3</th>\n",
       "      <td>Sketch - Draw &amp; Paint</td>\n",
       "      <td>ART_AND_DESIGN</td>\n",
       "      <td>4.5</td>\n",
       "      <td>215644</td>\n",
       "      <td>25M</td>\n",
       "      <td>50,000,000+</td>\n",
       "      <td>Free</td>\n",
       "      <td>0</td>\n",
       "      <td>Teen</td>\n",
       "      <td>Art &amp; Design</td>\n",
       "      <td>June 8, 2018</td>\n",
       "      <td>Varies with device</td>\n",
       "      <td>4.2 and up</td>\n",
       "    </tr>\n",
       "    <tr>\n",
       "      <th>4</th>\n",
       "      <td>Pixel Draw - Number Art Coloring Book</td>\n",
       "      <td>ART_AND_DESIGN</td>\n",
       "      <td>4.3</td>\n",
       "      <td>967</td>\n",
       "      <td>2.8M</td>\n",
       "      <td>100,000+</td>\n",
       "      <td>Free</td>\n",
       "      <td>0</td>\n",
       "      <td>Everyone</td>\n",
       "      <td>Art &amp; Design;Creativity</td>\n",
       "      <td>June 20, 2018</td>\n",
       "      <td>1.1</td>\n",
       "      <td>4.4 and up</td>\n",
       "    </tr>\n",
       "  </tbody>\n",
       "</table>\n",
       "</div>"
      ],
      "text/plain": [
       "                                                 App        Category  Rating  \\\n",
       "0     Photo Editor & Candy Camera & Grid & ScrapBook  ART_AND_DESIGN     4.1   \n",
       "1                                Coloring book moana  ART_AND_DESIGN     3.9   \n",
       "2  U Launcher Lite – FREE Live Cool Themes, Hide ...  ART_AND_DESIGN     4.7   \n",
       "3                              Sketch - Draw & Paint  ART_AND_DESIGN     4.5   \n",
       "4              Pixel Draw - Number Art Coloring Book  ART_AND_DESIGN     4.3   \n",
       "\n",
       "  Reviews  Size     Installs  Type Price Content Rating  \\\n",
       "0     159   19M      10,000+  Free     0       Everyone   \n",
       "1     967   14M     500,000+  Free     0       Everyone   \n",
       "2   87510  8.7M   5,000,000+  Free     0       Everyone   \n",
       "3  215644   25M  50,000,000+  Free     0           Teen   \n",
       "4     967  2.8M     100,000+  Free     0       Everyone   \n",
       "\n",
       "                      Genres      Last Updated         Current Ver  \\\n",
       "0               Art & Design   January 7, 2018               1.0.0   \n",
       "1  Art & Design;Pretend Play  January 15, 2018               2.0.0   \n",
       "2               Art & Design    August 1, 2018               1.2.4   \n",
       "3               Art & Design      June 8, 2018  Varies with device   \n",
       "4    Art & Design;Creativity     June 20, 2018                 1.1   \n",
       "\n",
       "    Android Ver  \n",
       "0  4.0.3 and up  \n",
       "1  4.0.3 and up  \n",
       "2  4.0.3 and up  \n",
       "3    4.2 and up  \n",
       "4    4.4 and up  "
      ]
     },
     "execution_count": 34,
     "metadata": {},
     "output_type": "execute_result"
    }
   ],
   "source": [
    "df = pd.read_csv('googleplaystore.csv')\n",
    "df.head()"
   ]
  },
  {
   "cell_type": "markdown",
   "id": "f3bf5b03",
   "metadata": {},
   "source": [
    "## Revision - using conditions"
   ]
  },
  {
   "cell_type": "code",
   "execution_count": 35,
   "id": "675bf520",
   "metadata": {},
   "outputs": [],
   "source": [
    "impute = SimpleImputer(missing_values = np.nan, strategy = 'most_frequent')\n",
    "\n",
    "impute.fit(df.iloc[:,:].values)\n",
    "\n",
    "df.iloc[:,:]  = impute.transform(df.iloc[:,:])"
   ]
  },
  {
   "cell_type": "markdown",
   "id": "84b22226",
   "metadata": {},
   "source": [
    "## Q1. How many free apps are there in ART_AND_DESIGN ?"
   ]
  },
  {
   "cell_type": "code",
   "execution_count": 36,
   "id": "6f491823",
   "metadata": {},
   "outputs": [
    {
     "data": {
      "text/plain": [
       "62"
      ]
     },
     "execution_count": 36,
     "metadata": {},
     "output_type": "execute_result"
    }
   ],
   "source": [
    "df_pr = df[df['Category'] == 'ART_AND_DESIGN']\n",
    "\n",
    "len(df_pr[df_pr['Type'] == 'Free'])"
   ]
  },
  {
   "cell_type": "markdown",
   "id": "148d2707",
   "metadata": {},
   "source": [
    "## Q2. How many apps are there in ART_AND_DESIGN which have rating more than 4.5 ?m"
   ]
  },
  {
   "cell_type": "code",
   "execution_count": 37,
   "id": "26d2a239",
   "metadata": {},
   "outputs": [
    {
     "data": {
      "text/plain": [
       "22"
      ]
     },
     "execution_count": 37,
     "metadata": {},
     "output_type": "execute_result"
    }
   ],
   "source": [
    "df_pr = df[df['Category'] == 'ART_AND_DESIGN']\n",
    "\n",
    "len(df_pr[df_pr['Rating'] > 4.5])"
   ]
  },
  {
   "cell_type": "markdown",
   "id": "ed1bf4df",
   "metadata": {},
   "source": [
    "## Q3. How many apps are there in FAMILY with rating more than 4.5 and Free ?"
   ]
  },
  {
   "cell_type": "code",
   "execution_count": 38,
   "id": "6a5b6531",
   "metadata": {},
   "outputs": [
    {
     "data": {
      "text/plain": [
       "314"
      ]
     },
     "execution_count": 38,
     "metadata": {},
     "output_type": "execute_result"
    }
   ],
   "source": [
    "df_pr = df[df['Category'] == 'FAMILY']\n",
    "\n",
    "df_pr = df_pr[df_pr['Rating'] > 4.5]\n",
    "\n",
    "len(df_pr[df_pr['Type'] == 'Free'])"
   ]
  },
  {
   "cell_type": "markdown",
   "id": "16c261c8",
   "metadata": {},
   "source": [
    "## Q4. List all the free apps with rating more than 4.5 and category is FAMILY."
   ]
  },
  {
   "cell_type": "code",
   "execution_count": 39,
   "id": "254cb68a",
   "metadata": {},
   "outputs": [
    {
     "data": {
      "text/plain": [
       "314"
      ]
     },
     "execution_count": 39,
     "metadata": {},
     "output_type": "execute_result"
    }
   ],
   "source": [
    "df_pr = df[df['Type'] == 'Free']\n",
    "\n",
    "df_pr = df_pr[df_pr['Rating'] > 4.5]\n",
    "\n",
    "len(df_pr[df_pr['Category'] == 'FAMILY'])"
   ]
  },
  {
   "cell_type": "code",
   "execution_count": 40,
   "id": "14c4866f",
   "metadata": {},
   "outputs": [
    {
     "name": "stdout",
     "output_type": "stream",
     "text": [
      "Super ABC! Learning games for kids! Preschool apps\n",
      "Candy Pop Story\n",
      "Dog Run - Pet Dog Simulator\n",
      "Puzzle Kids - Animals Shapes and Jigsaw Puzzles\n",
      "No. Color - Color by Number, Number Coloring\n",
      "Garden Fruit Legend\n",
      "Piano Kids - Music & Songs\n",
      "Duolingo: Learn Languages Free\n",
      "Super ABC! Learning games for kids! Preschool apps\n",
      "Drawing for Kids Learning Games for Toddlers age 3\n",
      "Baby ABC in box! Kids alphabet games for toddlers!\n",
      "Henry Danger Crime Warp\n",
      "Fruit Cube Blast\n",
      "Toddler Kids Puzzles PUZZINGO\n",
      "Fuzzy Seasons: Animal Forest\n",
      "Dog Run - Pet Dog Simulator\n",
      "My Oasis - Calming and Relaxing Idle Clicker Game\n",
      "Ninja Dash - Ronin Jump RPG\n",
      "Monster High™ Minis Mania\n",
      "Monica Toy TV\n",
      "Sworkit Kids - Fitness Meets Fun\n",
      "Crazy Colors: Bubbles Matching\n",
      "Pino chess\n",
      "Duolingo: Learn Languages Free\n",
      "Animal Jam - Play Wild!\n",
      "Dog Sim Online: Raise a Family\n",
      "Color by Number - Draw Sandbox Pixel Art\n",
      "Build a Bridge!\n",
      "Find a Way: Addictive Puzzle\n",
      "CompTIA Exam Training\n",
      "Gymnastics Superstar - Spin your way to gold!\n",
      "Hungry Hearts Diner: A Tale of Star-Crossed Souls\n",
      "Dragon Sim Online: Be A Dragon\n",
      "Cat Sim Online: Play with Cats\n",
      "Clash of Clans\n",
      "Clash Royale\n",
      "Learn C++\n",
      "C Programming Zone\n",
      "All C Programs\n",
      "codeEazy - C/C++/JAVA\n",
      "C Functions\n",
      "Learn Basic C - For Beginners\n",
      "C Prowess\n",
      "101 C Programming Problems\n",
      "C BOOK-C PROGRAMS\n",
      "Eternium\n",
      "Harris J Lyrics\n",
      "2048 BTS J Hope KPop Puzzle Game\n",
      "J. Cole Albums (2007-2017)\n",
      "K-Otic Universe\n",
      "CASE K-12 Math English Science\n",
      "K-Spapp, the K-Space app\n",
      "EXO-L\n",
      "Fantastic Chefs: Match 'n Cook\n",
      "Twitch: Livestream Multiplayer Games & Esports\n",
      "Channel U\n",
      "Get Free V-bucks_fortnite Hints\n",
      "Easy V-Bux free\n",
      "X-Wing Squadron Builder\n",
      "JW Caleb y Sofia\n",
      "PewDiePie's Tuber Simulator\n",
      "Z-Empire: Dead Strike\n",
      "Angry Birds Blast\n",
      "Angry Birds Match\n",
      "Angry Birds 2\n",
      "Alchemy Classic Ad Free\n",
      "Nasihat - Chalo ae Pyaara\n",
      "9GAG: Funny Gifs, Pics, Memes & Videos for IGTV\n",
      "Orbita AI — Exciting mobile puzzles & riddles\n",
      "Learn Artificial Intelligence\n",
      "Animal Jam - Play Wild!\n",
      "AJ Official\n",
      "Little Pets Animal Guardians\n",
      "AJ Rafael Music Lessons\n",
      "Weapon stripping 3D\n",
      "Al jazeera TV\n",
      "Al Quran Audio (Full 30 Juz)\n",
      "Quran for All (Al-Huda Int.)\n",
      "Ayat - Al Quran\n",
      "Quran Juz-30 - Mahad al Zahra\n",
      "Al Quran MP3 - Quran Reading®\n",
      "Al-Quran Ahmad Saud Offline\n",
      "Virtual lover\n",
      "virtual lover 3D\n",
      "Bubbu – My Virtual Pet\n",
      "AP® Guide\n",
      "AP Mobile\n",
      "Study AP World History\n",
      "AP Chemistry Prep: Practice Tests and Flashcards\n",
      "AP World History: Practice Tests and Flashcards\n",
      "AP Biology Prep: Practice Tests, Flashcards\n",
      "AP European History: Practice Tests and Flashcards\n",
      "Adventure Quest World Mobile Quiz\n",
      "AQ Ria Retail\n",
      "Accounting Quiz (AQ) Malaysia\n",
      "Wowkwis aq Ka'qaquj\n",
      "Questland: Turn Based RPG\n",
      "Grow Stone Online : 2d pixel RPG, MMORPG game\n",
      "Egg, Inc.\n",
      "Choices: Stories You Play\n",
      "Aw Restaurant\n",
      "AW Training\n",
      "Anime Expo 2018\n",
      "INTERACTIVE CALCULUS FOR MATHS AND PHYSICS\n",
      "Pinoy Kid Song Ako ay may Lobo\n",
      "Quran Khmer Offline AY\n",
      "Permit Test AZ Arizona MVD DOT\n",
      "Catalyst AZ\n",
      "Az Video Status\n",
      "Goody.ba\n",
      "Learn alif ba ta\n",
      "Arabic Alphabet Alif Ba Ta Wooden Blocks\n",
      "Let's Learn Alif Ba Ta\n",
      "Sufara.ba\n",
      "Elif Ba - Learn The Holy Quran\n",
      "Elifba Quran Learning Game\n",
      "Railroad Radio Vancouver BC\n",
      "BD Online Passport Application\n",
      "BD Hospital's\n",
      "Exam Result BD\n",
      "BG Future School\n",
      "Learn Bulgarian Free\n",
      "Bh Public School\n",
      "BH Challenge - Museum of the Jewish People\n",
      "Bitmoji – Your Personal Emoji\n",
      "Business Intelligence & Data\n",
      "TED\n",
      "English Grammar Test\n",
      "HON. B.J. ACS COLLEGE ALE\n",
      "BK Video Status\n",
      "Audio Murli Glossary For BK\n",
      "Baba Yaad Hai?(BK's)\n",
      "BK murli today (Mobile Murli) - Gyan\n",
      "BK Murli Dictionary (H to E)\n",
      "BkEmu - BK-0010/11M emulator\n",
      "Cerulean Heart\n",
      "あなカレ【BL】無料ゲーム\n",
      "BM SPM Practice\n",
      "Township\n",
      "Blood Pressure Diary\n",
      "RoboPad\n",
      "Br Shafi\n",
      "Companion for Fortnite & Fortnite Battle Royale\n",
      "Vlogger Go Viral - Tuber Game\n",
      "Loved by King Bs\n",
      "BS CS IT & SE\n",
      "Marked by King Bs\n",
      "COMSATS BOOK STORE FOR BS(CS)\n",
      "Beauty Rental Shop\n",
      "Sleeping Delivery\n",
      "Wifi BT Scanner\n",
      "BU Study\n",
      "Barisal University App-BU Face\n",
      "BU Students' Rep. Council\n",
      "BU Calculator\n",
      "BV Sridhara Maharaj\n",
      "Quadratic Equation Solver with Steps and Graphs\n",
      "Sandbox - Color by Number Coloring Pages\n",
      "Sandbox Art-Sandbox Color by Number Coloring Pages\n",
      "Color By Number - Sandbox Pixel Coloring Book\n",
      "PixelDot - Color by Number Sandbox Pixel Art\n",
      "PixPanda - Color by Number Pixel Art Coloring Book\n",
      "Pixyfy: coloring by number coloring book\n",
      "Draw Color by Number - Sandbox Pixel Art\n",
      "Butterfly Pixel Art - coloring by number\n",
      "Color by Number: Pixel Art\n",
      "UNICORN - Color By Number & Pixel Art Coloring\n",
      "FunnyPixels - Color by number Sandbox\n",
      "No.Diamond – Colors by Number\n",
      "Park Limousine: Realistic Limo Parking Simulator\n",
      "CB News\n",
      "CB Register\n",
      "CD CHOICE TUBE\n",
      "Yazdani Cd Center EllahAbad Official App\n",
      "MCQ CE IT\n",
      "Magana Jari ce Littafi Na Uku : Part 3 of 3\n",
      "CF Life\n",
      "All Info about Cg\n",
      "CG FM\n",
      "CG - Chemistry free\n",
      "CG Jobs\n",
      "BF CG Abstract Pictures\n",
      "CI Dictionary\n",
      "Sir C J New Primary School\n",
      "Louis CK\n",
      "Tic Tac CK\n",
      "Castle Clash: Heroes of the Empire US\n",
      "Cartoon Network Match Land\n",
      "Super Slime Blitz - Gumball\n",
      "Surely You Quest - Magiswords\n",
      "We Bare Bears Match3 Repairs\n",
      "Champions and Challengers - Adventure Time\n",
      "CN Resident\n",
      "CP Channel\n",
      "Foothills CP\n",
      "Cp Calculator for Evolution:GO\n",
      "ClanManagerTT2\n",
      "Christian Questions Podcast\n",
      "CR & CoC Private Server - Clash Barbarians PRO\n",
      "Ultimate Clash Royale Tracker\n",
      "Servidor Privado de CR y CoC - Light Royale\n",
      "Deck Shop for Clash Royale\n",
      "Cr Aviation Academy\n",
      "CS Interview Questions (TechQ)\n",
      "DU CS Lectures - Learn to Code for Free\n",
      "CS & IT Interview Questions\n",
      "CA CS Network\n",
      "CT Scan Generations\n",
      "CT Brain Interpretation\n",
      "Permit Test Connecticut CT DMV\n",
      "Cy-Reader\n",
      "MadLipz\n",
      "DB Tools\n",
      "DB for Hustle Castle\n",
      "MARVEL Future Fight\n",
      "DC N COMPANY ENTERTAINMENT RADIO!\n",
      "Driver Permit Test Prep DC DMV Driver's License Ed\n",
      "Coloring Book for Me & Mandala\n",
      "Anime Love Story Games: ✨Shadowtime✨\n",
      "DH-UFO\n",
      "Idle Heroes\n",
      "Duolingo: Learn Languages Free\n",
      "PK and DK Audio App\n",
      "dk\n",
      "Account Class-12 Solutions (D K Goel) Vol-2\n",
      "DL Hughley\n",
      "DM Buddy » Learn Digital Marketing\n",
      "Disciple Maker’s (DM) Lab\n",
      "DN Employee\n",
      "Dragon Nest M\n",
      "CritDice - Dice Roller\n",
      "Maher EL Mouaikly - Offline\n",
      "Darkness Rises\n",
      "Latest DP and Status Pro 2018\n",
      "Faceoff DP Battle App\n",
      "RPG Dragon Lapis\n",
      "DQSalmaan - A fan made App\n",
      "DS\n",
      "MegaN64 (N64 Emulator)\n",
      "DS-Students\n",
      "DT Driving Test Theory\n",
      "WPBS-DT\n",
      "Du Chinese – Mandarin Lessons\n",
      "DV ASSIST\n",
      "DV Lottery Simulator\n",
      "DV-2019 UK/British\n",
      "DW Audio\n",
      "German Listening\n",
      "Piczle Lines DX\n",
      "DX Simulation for OOO Dx Belt\n",
      "DX Simulation for Kabuto Henshin Belt 2018\n",
      "DX Simulation for Double Dx Henshin Belt 2018\n",
      "KPS CHAUHAN DY/DX\n",
      "DYPSOET\n",
      "Typical EA Game\n",
      "EC Calgary\n",
      "EC Fairgrounds\n",
      "GATE Syllabus for EC 2018 & Notifications\n",
      "English Conversation Courses\n",
      "Dance Magic Fashion Style Games\n",
      "EI国际\n",
      "TeamWard – live help for LoL\n",
      "Master E.K\n",
      "Ek Onkar\n",
      "Pyaar Ek Dhoka\n",
      "Ek Bander Ne Kholi Dukan\n",
      "Toilet Ek Prem Katha Songs Lyrics in Hindi\n",
      "Sanu Ek Pal Chain Song Videos - RAID Movie Songs\n",
      "Ek Qissa He Quran Se (Qurani Waqiyat)\n",
      "Lyrics of Ek Paheli Leela\n",
      "Exiled Kingdoms RPG\n",
      "Shabad Gurubani Punjabi mp3 free - Ek Onkar Satnam\n",
      "El Falı\n",
      "OWLIE BOO\n",
      "Narcos: Cartel Wars\n",
      "Hello English: Learn English\n",
      "Learn Top 300 English Words\n",
      "Masha and the Bear. Games for kids\n",
      "Masha and The Bear Jam Day Match 3 games for kids\n",
      "Masha and the Bear: Good Night!\n",
      "EP Radio\n",
      "Super Doctor 2 - My Newborn Baby ER Injection\n",
      "Open Heart Surgery Hospital ER: Crazy Doctor Sim\n",
      "YEBIS OpenGL ES 3.0 Tech Demo\n",
      "Advanced calculator fx 991 es plus & 991 ms plus\n",
      "Castle Clash: Epic Empire ES\n",
      "School scientific calculator fx 500 es plus 500 ms\n",
      "Lettre et demande d'emploi\n",
      "daskal.eu\n",
      "PokeType - Dex\n",
      "Pink Guy - Ey B0ss\n",
      "Ey Sey Storytime រឿងនិទានតាឥសី\n",
      "Fallout Shelter\n",
      "Story Time FD\n",
      "FD VR Music Videos - MTV Pop and Rap in 360\n",
      "Fire Emblem Heroes\n",
      "Safe Santa Fe\n",
      "POLARIS 2MFG\n",
      "Puzzles Volvo FH 16 Trucks\n",
      "Jigsaw Volvo FH 16 Trucks\n",
      "FH School\n",
      "FK Željezničar Izzy\n",
      "Permit Test FL Florida DHSMV\n",
      "FL Lottery Results\n",
      "Scratch-Off Guide for FL Lotto\n",
      "Canvas FL\n",
      "Florida Wildflowers\n",
      "How it Works: FN SCAR assault rifle\n",
      "Ninja FN Button\n",
      "Pin-fo\n",
      "Fr Ignacio Outreach\n",
      "Castle Clash: RPG War and Strategy FR\n",
      "Fr. Daoud Lamei\n",
      "Fr. Mike Schmitz Audio Teachings\n"
     ]
    }
   ],
   "source": [
    "result = df_pr[df_pr['Category'] == 'FAMILY']\n",
    "\n",
    "for i in result.values:\n",
    "    print(i[0])"
   ]
  },
  {
   "cell_type": "code",
   "execution_count": null,
   "id": "005f5b8c",
   "metadata": {},
   "outputs": [],
   "source": []
  },
  {
   "cell_type": "markdown",
   "id": "e652a019",
   "metadata": {},
   "source": [
    "# <font color = 'red'><U> Revision - Group_By</font></U>"
   ]
  },
  {
   "cell_type": "markdown",
   "id": "9c9b1dcc",
   "metadata": {},
   "source": [
    "## Q1. Name the apps in ART_AND_DESIGN with rating more than 4.5 in ascending order WRT Ratings"
   ]
  },
  {
   "cell_type": "code",
   "execution_count": 41,
   "id": "e10f390a",
   "metadata": {},
   "outputs": [
    {
     "data": {
      "text/plain": [
       "22"
      ]
     },
     "execution_count": 41,
     "metadata": {},
     "output_type": "execute_result"
    }
   ],
   "source": [
    "df_pr = df[df['Category'] == 'ART_AND_DESIGN']\n",
    "\n",
    "df_pr = df_pr[df_pr['Rating'] > 4.5]\n",
    "\n",
    "result = df_pr.sort_values(by = 'Rating', ascending=True)\n",
    "\n",
    "len(result)"
   ]
  },
  {
   "cell_type": "markdown",
   "id": "12985404",
   "metadata": {},
   "source": [
    "## Q2. Name the apps in ART_AND_DESIGN in descending order WRT Reviews ?"
   ]
  },
  {
   "cell_type": "code",
   "execution_count": 50,
   "id": "87775168",
   "metadata": {},
   "outputs": [
    {
     "data": {
      "text/html": [
       "<div>\n",
       "<style scoped>\n",
       "    .dataframe tbody tr th:only-of-type {\n",
       "        vertical-align: middle;\n",
       "    }\n",
       "\n",
       "    .dataframe tbody tr th {\n",
       "        vertical-align: top;\n",
       "    }\n",
       "\n",
       "    .dataframe thead th {\n",
       "        text-align: right;\n",
       "    }\n",
       "</style>\n",
       "<table border=\"1\" class=\"dataframe\">\n",
       "  <thead>\n",
       "    <tr style=\"text-align: right;\">\n",
       "      <th></th>\n",
       "      <th>App</th>\n",
       "      <th>Category</th>\n",
       "      <th>Rating</th>\n",
       "      <th>Reviews</th>\n",
       "      <th>Size</th>\n",
       "      <th>Installs</th>\n",
       "      <th>Type</th>\n",
       "      <th>Price</th>\n",
       "      <th>Content Rating</th>\n",
       "      <th>Genres</th>\n",
       "      <th>Last Updated</th>\n",
       "      <th>Current Ver</th>\n",
       "      <th>Android Ver</th>\n",
       "    </tr>\n",
       "  </thead>\n",
       "  <tbody>\n",
       "    <tr>\n",
       "      <th>10472</th>\n",
       "      <td>Life Made WI-Fi Touchscreen Photo Frame</td>\n",
       "      <td>1.9</td>\n",
       "      <td>19.0</td>\n",
       "      <td>3.0M</td>\n",
       "      <td>1,000+</td>\n",
       "      <td>Free</td>\n",
       "      <td>0</td>\n",
       "      <td>Everyone</td>\n",
       "      <td>Everyone</td>\n",
       "      <td>February 11, 2018</td>\n",
       "      <td>1.0.19</td>\n",
       "      <td>4.0 and up</td>\n",
       "      <td>4.1 and up</td>\n",
       "    </tr>\n",
       "  </tbody>\n",
       "</table>\n",
       "</div>"
      ],
      "text/plain": [
       "                                           App Category  Rating Reviews  \\\n",
       "10472  Life Made WI-Fi Touchscreen Photo Frame      1.9    19.0    3.0M   \n",
       "\n",
       "         Size Installs Type     Price Content Rating             Genres  \\\n",
       "10472  1,000+     Free    0  Everyone       Everyone  February 11, 2018   \n",
       "\n",
       "      Last Updated Current Ver Android Ver  \n",
       "10472       1.0.19  4.0 and up  4.1 and up  "
      ]
     },
     "execution_count": 50,
     "metadata": {},
     "output_type": "execute_result"
    }
   ],
   "source": [
    "df[df['Reviews'] == '3.0M']"
   ]
  },
  {
   "cell_type": "code",
   "execution_count": 51,
   "id": "366b7e8a",
   "metadata": {},
   "outputs": [],
   "source": [
    "df.drop(10472, axis = 0, inplace = True)"
   ]
  },
  {
   "cell_type": "code",
   "execution_count": 52,
   "id": "e3821690",
   "metadata": {},
   "outputs": [
    {
     "data": {
      "text/plain": [
       "0           159\n",
       "1           967\n",
       "2         87510\n",
       "3        215644\n",
       "4           967\n",
       "          ...  \n",
       "10836        38\n",
       "10837         4\n",
       "10838         3\n",
       "10839       114\n",
       "10840    398307\n",
       "Name: Reviews, Length: 10840, dtype: int32"
      ]
     },
     "execution_count": 52,
     "metadata": {},
     "output_type": "execute_result"
    }
   ],
   "source": [
    "df['Reviews'].astype(int)"
   ]
  },
  {
   "cell_type": "code",
   "execution_count": 54,
   "id": "a3351384",
   "metadata": {},
   "outputs": [
    {
     "data": {
      "text/html": [
       "<div>\n",
       "<style scoped>\n",
       "    .dataframe tbody tr th:only-of-type {\n",
       "        vertical-align: middle;\n",
       "    }\n",
       "\n",
       "    .dataframe tbody tr th {\n",
       "        vertical-align: top;\n",
       "    }\n",
       "\n",
       "    .dataframe thead th {\n",
       "        text-align: right;\n",
       "    }\n",
       "</style>\n",
       "<table border=\"1\" class=\"dataframe\">\n",
       "  <thead>\n",
       "    <tr style=\"text-align: right;\">\n",
       "      <th></th>\n",
       "      <th>App</th>\n",
       "      <th>Category</th>\n",
       "      <th>Rating</th>\n",
       "      <th>Reviews</th>\n",
       "      <th>Size</th>\n",
       "      <th>Installs</th>\n",
       "      <th>Type</th>\n",
       "      <th>Price</th>\n",
       "      <th>Content Rating</th>\n",
       "      <th>Genres</th>\n",
       "      <th>Last Updated</th>\n",
       "      <th>Current Ver</th>\n",
       "      <th>Android Ver</th>\n",
       "    </tr>\n",
       "  </thead>\n",
       "  <tbody>\n",
       "    <tr>\n",
       "      <th>4</th>\n",
       "      <td>Pixel Draw - Number Art Coloring Book</td>\n",
       "      <td>ART_AND_DESIGN</td>\n",
       "      <td>4.3</td>\n",
       "      <td>967</td>\n",
       "      <td>2.8M</td>\n",
       "      <td>100,000+</td>\n",
       "      <td>Free</td>\n",
       "      <td>0</td>\n",
       "      <td>Everyone</td>\n",
       "      <td>Art &amp; Design;Creativity</td>\n",
       "      <td>June 20, 2018</td>\n",
       "      <td>1.1</td>\n",
       "      <td>4.4 and up</td>\n",
       "    </tr>\n",
       "    <tr>\n",
       "      <th>1</th>\n",
       "      <td>Coloring book moana</td>\n",
       "      <td>ART_AND_DESIGN</td>\n",
       "      <td>3.9</td>\n",
       "      <td>967</td>\n",
       "      <td>14M</td>\n",
       "      <td>500,000+</td>\n",
       "      <td>Free</td>\n",
       "      <td>0</td>\n",
       "      <td>Everyone</td>\n",
       "      <td>Art &amp; Design;Pretend Play</td>\n",
       "      <td>January 15, 2018</td>\n",
       "      <td>2.0.0</td>\n",
       "      <td>4.0.3 and up</td>\n",
       "    </tr>\n",
       "    <tr>\n",
       "      <th>11</th>\n",
       "      <td>Name Art Photo Editor - Focus n Filters</td>\n",
       "      <td>ART_AND_DESIGN</td>\n",
       "      <td>4.4</td>\n",
       "      <td>8788</td>\n",
       "      <td>12M</td>\n",
       "      <td>1,000,000+</td>\n",
       "      <td>Free</td>\n",
       "      <td>0</td>\n",
       "      <td>Everyone</td>\n",
       "      <td>Art &amp; Design</td>\n",
       "      <td>July 31, 2018</td>\n",
       "      <td>1.0.15</td>\n",
       "      <td>4.0 and up</td>\n",
       "    </tr>\n",
       "    <tr>\n",
       "      <th>2</th>\n",
       "      <td>U Launcher Lite – FREE Live Cool Themes, Hide ...</td>\n",
       "      <td>ART_AND_DESIGN</td>\n",
       "      <td>4.7</td>\n",
       "      <td>87510</td>\n",
       "      <td>8.7M</td>\n",
       "      <td>5,000,000+</td>\n",
       "      <td>Free</td>\n",
       "      <td>0</td>\n",
       "      <td>Everyone</td>\n",
       "      <td>Art &amp; Design</td>\n",
       "      <td>August 1, 2018</td>\n",
       "      <td>1.2.4</td>\n",
       "      <td>4.0.3 and up</td>\n",
       "    </tr>\n",
       "    <tr>\n",
       "      <th>47</th>\n",
       "      <td>Little Teddy Bear Colouring Book Game</td>\n",
       "      <td>ART_AND_DESIGN</td>\n",
       "      <td>4.2</td>\n",
       "      <td>85</td>\n",
       "      <td>8.0M</td>\n",
       "      <td>100,000+</td>\n",
       "      <td>Free</td>\n",
       "      <td>0</td>\n",
       "      <td>Everyone</td>\n",
       "      <td>Art &amp; Design</td>\n",
       "      <td>December 17, 2017</td>\n",
       "      <td>2.0.0</td>\n",
       "      <td>4.1 and up</td>\n",
       "    </tr>\n",
       "    <tr>\n",
       "      <th>...</th>\n",
       "      <td>...</td>\n",
       "      <td>...</td>\n",
       "      <td>...</td>\n",
       "      <td>...</td>\n",
       "      <td>...</td>\n",
       "      <td>...</td>\n",
       "      <td>...</td>\n",
       "      <td>...</td>\n",
       "      <td>...</td>\n",
       "      <td>...</td>\n",
       "      <td>...</td>\n",
       "      <td>...</td>\n",
       "      <td>...</td>\n",
       "    </tr>\n",
       "    <tr>\n",
       "      <th>30</th>\n",
       "      <td>Pink Silver Bow Keyboard Theme</td>\n",
       "      <td>ART_AND_DESIGN</td>\n",
       "      <td>4.2</td>\n",
       "      <td>1120</td>\n",
       "      <td>9.2M</td>\n",
       "      <td>100,000+</td>\n",
       "      <td>Free</td>\n",
       "      <td>0</td>\n",
       "      <td>Everyone</td>\n",
       "      <td>Art &amp; Design</td>\n",
       "      <td>July 12, 2018</td>\n",
       "      <td>6.7.12.2018</td>\n",
       "      <td>4.0.3 and up</td>\n",
       "    </tr>\n",
       "    <tr>\n",
       "      <th>46</th>\n",
       "      <td>Install images with music to make video withou...</td>\n",
       "      <td>ART_AND_DESIGN</td>\n",
       "      <td>4.6</td>\n",
       "      <td>1070</td>\n",
       "      <td>26M</td>\n",
       "      <td>100,000+</td>\n",
       "      <td>Free</td>\n",
       "      <td>0</td>\n",
       "      <td>Everyone</td>\n",
       "      <td>Art &amp; Design</td>\n",
       "      <td>November 14, 2017</td>\n",
       "      <td>1.6</td>\n",
       "      <td>4.1 and up</td>\n",
       "    </tr>\n",
       "    <tr>\n",
       "      <th>33</th>\n",
       "      <td>Easy Origami Ideas</td>\n",
       "      <td>ART_AND_DESIGN</td>\n",
       "      <td>4.2</td>\n",
       "      <td>1015</td>\n",
       "      <td>11M</td>\n",
       "      <td>100,000+</td>\n",
       "      <td>Free</td>\n",
       "      <td>0</td>\n",
       "      <td>Everyone</td>\n",
       "      <td>Art &amp; Design</td>\n",
       "      <td>January 6, 2018</td>\n",
       "      <td>1.1.0</td>\n",
       "      <td>4.1 and up</td>\n",
       "    </tr>\n",
       "    <tr>\n",
       "      <th>8888</th>\n",
       "      <td>Spring flowers theme couleurs d t space</td>\n",
       "      <td>ART_AND_DESIGN</td>\n",
       "      <td>5.0</td>\n",
       "      <td>1</td>\n",
       "      <td>2.9M</td>\n",
       "      <td>100+</td>\n",
       "      <td>Free</td>\n",
       "      <td>0</td>\n",
       "      <td>Everyone</td>\n",
       "      <td>Art &amp; Design</td>\n",
       "      <td>April 18, 2018</td>\n",
       "      <td>1.0.2</td>\n",
       "      <td>4.0 and up</td>\n",
       "    </tr>\n",
       "    <tr>\n",
       "      <th>8871</th>\n",
       "      <td>Test Application DT 02</td>\n",
       "      <td>ART_AND_DESIGN</td>\n",
       "      <td>4.4</td>\n",
       "      <td>0</td>\n",
       "      <td>1.2M</td>\n",
       "      <td>0+</td>\n",
       "      <td>Free</td>\n",
       "      <td>0</td>\n",
       "      <td>Everyone</td>\n",
       "      <td>Art &amp; Design</td>\n",
       "      <td>March 14, 2017</td>\n",
       "      <td>4.0</td>\n",
       "      <td>4.2 and up</td>\n",
       "    </tr>\n",
       "  </tbody>\n",
       "</table>\n",
       "<p>65 rows × 13 columns</p>\n",
       "</div>"
      ],
      "text/plain": [
       "                                                    App        Category  \\\n",
       "4                 Pixel Draw - Number Art Coloring Book  ART_AND_DESIGN   \n",
       "1                                   Coloring book moana  ART_AND_DESIGN   \n",
       "11              Name Art Photo Editor - Focus n Filters  ART_AND_DESIGN   \n",
       "2     U Launcher Lite – FREE Live Cool Themes, Hide ...  ART_AND_DESIGN   \n",
       "47                Little Teddy Bear Colouring Book Game  ART_AND_DESIGN   \n",
       "...                                                 ...             ...   \n",
       "30                       Pink Silver Bow Keyboard Theme  ART_AND_DESIGN   \n",
       "46    Install images with music to make video withou...  ART_AND_DESIGN   \n",
       "33                                   Easy Origami Ideas  ART_AND_DESIGN   \n",
       "8888            Spring flowers theme couleurs d t space  ART_AND_DESIGN   \n",
       "8871                             Test Application DT 02  ART_AND_DESIGN   \n",
       "\n",
       "      Rating Reviews  Size    Installs  Type Price Content Rating  \\\n",
       "4        4.3     967  2.8M    100,000+  Free     0       Everyone   \n",
       "1        3.9     967   14M    500,000+  Free     0       Everyone   \n",
       "11       4.4    8788   12M  1,000,000+  Free     0       Everyone   \n",
       "2        4.7   87510  8.7M  5,000,000+  Free     0       Everyone   \n",
       "47       4.2      85  8.0M    100,000+  Free     0       Everyone   \n",
       "...      ...     ...   ...         ...   ...   ...            ...   \n",
       "30       4.2    1120  9.2M    100,000+  Free     0       Everyone   \n",
       "46       4.6    1070   26M    100,000+  Free     0       Everyone   \n",
       "33       4.2    1015   11M    100,000+  Free     0       Everyone   \n",
       "8888     5.0       1  2.9M        100+  Free     0       Everyone   \n",
       "8871     4.4       0  1.2M          0+  Free     0       Everyone   \n",
       "\n",
       "                         Genres       Last Updated  Current Ver   Android Ver  \n",
       "4       Art & Design;Creativity      June 20, 2018          1.1    4.4 and up  \n",
       "1     Art & Design;Pretend Play   January 15, 2018        2.0.0  4.0.3 and up  \n",
       "11                 Art & Design      July 31, 2018       1.0.15    4.0 and up  \n",
       "2                  Art & Design     August 1, 2018        1.2.4  4.0.3 and up  \n",
       "47                 Art & Design  December 17, 2017        2.0.0    4.1 and up  \n",
       "...                         ...                ...          ...           ...  \n",
       "30                 Art & Design      July 12, 2018  6.7.12.2018  4.0.3 and up  \n",
       "46                 Art & Design  November 14, 2017          1.6    4.1 and up  \n",
       "33                 Art & Design    January 6, 2018        1.1.0    4.1 and up  \n",
       "8888               Art & Design     April 18, 2018        1.0.2    4.0 and up  \n",
       "8871               Art & Design     March 14, 2017          4.0    4.2 and up  \n",
       "\n",
       "[65 rows x 13 columns]"
      ]
     },
     "execution_count": 54,
     "metadata": {},
     "output_type": "execute_result"
    }
   ],
   "source": [
    "df_pr = df[df['Category'] == 'ART_AND_DESIGN']\n",
    "df_pr.sort_values(by = 'Reviews', ascending=False)"
   ]
  },
  {
   "cell_type": "markdown",
   "id": "fd36e421",
   "metadata": {},
   "source": [
    "## Q3. Which Category is having maximum average rating ?"
   ]
  },
  {
   "cell_type": "code",
   "execution_count": 60,
   "id": "be568611",
   "metadata": {},
   "outputs": [
    {
     "data": {
      "text/plain": [
       "Category\n",
       "EVENTS                 4.425000\n",
       "EDUCATION              4.389103\n",
       "ART_AND_DESIGN         4.360000\n",
       "BOOKS_AND_REFERENCE    4.358442\n",
       "PERSONALIZATION        4.348724\n",
       "PARENTING              4.316667\n",
       "BEAUTY                 4.303774\n",
       "HEALTH_AND_FITNESS     4.292962\n",
       "GAME                   4.290997\n",
       "SOCIAL                 4.273220\n",
       "SHOPPING               4.271538\n",
       "WEATHER                4.257317\n",
       "SPORTS                 4.253385\n",
       "PRODUCTIVITY           4.243868\n",
       "MEDICAL                4.240605\n",
       "LIBRARIES_AND_DEMO     4.230588\n",
       "HOUSE_AND_HOME         4.225000\n",
       "AUTO_AND_VEHICLES      4.220000\n",
       "BUSINESS               4.216522\n",
       "FAMILY                 4.215974\n",
       "PHOTOGRAPHY            4.203284\n",
       "FOOD_AND_DRINK         4.200000\n",
       "COMMUNICATION          4.195349\n",
       "NEWS_AND_MAGAZINES     4.179505\n",
       "FINANCE                4.163388\n",
       "COMICS                 4.163333\n",
       "LIFESTYLE              4.149215\n",
       "TRAVEL_AND_LOCAL       4.145349\n",
       "ENTERTAINMENT          4.126174\n",
       "TOOLS                  4.093001\n",
       "VIDEO_PLAYERS          4.092571\n",
       "MAPS_AND_NAVIGATION    4.084672\n",
       "DATING                 4.042308\n",
       "Name: Rating, dtype: float64"
      ]
     },
     "execution_count": 60,
     "metadata": {},
     "output_type": "execute_result"
    }
   ],
   "source": [
    "df.groupby('Category').mean()['Rating'].sort_values(ascending = False)"
   ]
  },
  {
   "cell_type": "markdown",
   "id": "1454612b",
   "metadata": {},
   "source": [
    "## Q4. How many apps are there in each category ?"
   ]
  },
  {
   "cell_type": "code",
   "execution_count": 66,
   "id": "c031f331",
   "metadata": {},
   "outputs": [
    {
     "data": {
      "text/plain": [
       "Category\n",
       "FAMILY                 1972\n",
       "GAME                   1144\n",
       "TOOLS                   843\n",
       "MEDICAL                 463\n",
       "BUSINESS                460\n",
       "PRODUCTIVITY            424\n",
       "PERSONALIZATION         392\n",
       "COMMUNICATION           387\n",
       "SPORTS                  384\n",
       "LIFESTYLE               382\n",
       "FINANCE                 366\n",
       "HEALTH_AND_FITNESS      341\n",
       "PHOTOGRAPHY             335\n",
       "SOCIAL                  295\n",
       "NEWS_AND_MAGAZINES      283\n",
       "SHOPPING                260\n",
       "TRAVEL_AND_LOCAL        258\n",
       "DATING                  234\n",
       "BOOKS_AND_REFERENCE     231\n",
       "VIDEO_PLAYERS           175\n",
       "EDUCATION               156\n",
       "ENTERTAINMENT           149\n",
       "MAPS_AND_NAVIGATION     137\n",
       "FOOD_AND_DRINK          127\n",
       "HOUSE_AND_HOME           88\n",
       "LIBRARIES_AND_DEMO       85\n",
       "AUTO_AND_VEHICLES        85\n",
       "WEATHER                  82\n",
       "ART_AND_DESIGN           65\n",
       "EVENTS                   64\n",
       "PARENTING                60\n",
       "COMICS                   60\n",
       "BEAUTY                   53\n",
       "Name: Type, dtype: int64"
      ]
     },
     "execution_count": 66,
     "metadata": {},
     "output_type": "execute_result"
    }
   ],
   "source": [
    "df.groupby('Category').count()['Type'].sort_values(ascending=False)"
   ]
  },
  {
   "cell_type": "markdown",
   "id": "bc73008d",
   "metadata": {},
   "source": [
    "## How many free apps are there in each category ?"
   ]
  },
  {
   "cell_type": "code",
   "execution_count": 75,
   "id": "4ac21f15",
   "metadata": {},
   "outputs": [
    {
     "data": {
      "text/plain": [
       "Category\n",
       "FAMILY                 1781\n",
       "GAME                   1061\n",
       "TOOLS                   765\n",
       "BUSINESS                446\n",
       "PRODUCTIVITY            396\n",
       "LIFESTYLE               363\n",
       "SPORTS                  360\n",
       "COMMUNICATION           360\n",
       "MEDICAL                 354\n",
       "FINANCE                 349\n",
       "HEALTH_AND_FITNESS      325\n",
       "PHOTOGRAPHY             313\n",
       "PERSONALIZATION         309\n",
       "SOCIAL                  292\n",
       "NEWS_AND_MAGAZINES      281\n",
       "SHOPPING                258\n",
       "TRAVEL_AND_LOCAL        246\n",
       "DATING                  227\n",
       "BOOKS_AND_REFERENCE     203\n",
       "VIDEO_PLAYERS           171\n",
       "EDUCATION               152\n",
       "ENTERTAINMENT           147\n",
       "MAPS_AND_NAVIGATION     132\n",
       "FOOD_AND_DRINK          125\n",
       "HOUSE_AND_HOME           88\n",
       "LIBRARIES_AND_DEMO       84\n",
       "AUTO_AND_VEHICLES        82\n",
       "WEATHER                  74\n",
       "EVENTS                   63\n",
       "ART_AND_DESIGN           62\n",
       "COMICS                   60\n",
       "PARENTING                58\n",
       "BEAUTY                   53\n",
       "Name: Type, dtype: int64"
      ]
     },
     "execution_count": 75,
     "metadata": {},
     "output_type": "execute_result"
    }
   ],
   "source": [
    "df_pr = df[df['Type'] == 'Free']\n",
    "\n",
    "df_pr.groupby('Category').count()['Type'].sort_values(ascending=False)"
   ]
  },
  {
   "cell_type": "code",
   "execution_count": 78,
   "id": "47eec90a",
   "metadata": {},
   "outputs": [
    {
     "data": {
      "text/plain": [
       "Type\n",
       "Free    10040\n",
       "Paid      800\n",
       "Name: Category, dtype: int64"
      ]
     },
     "execution_count": 78,
     "metadata": {},
     "output_type": "execute_result"
    }
   ],
   "source": [
    "df.groupby('Type').count()['Category']"
   ]
  },
  {
   "cell_type": "code",
   "execution_count": null,
   "id": "516c7346",
   "metadata": {},
   "outputs": [],
   "source": []
  },
  {
   "cell_type": "code",
   "execution_count": null,
   "id": "55337d8f",
   "metadata": {},
   "outputs": [],
   "source": []
  },
  {
   "cell_type": "code",
   "execution_count": null,
   "id": "d2ada954",
   "metadata": {},
   "outputs": [],
   "source": []
  },
  {
   "cell_type": "code",
   "execution_count": null,
   "id": "19b538b2",
   "metadata": {},
   "outputs": [],
   "source": []
  },
  {
   "cell_type": "code",
   "execution_count": null,
   "id": "2f7333f9",
   "metadata": {},
   "outputs": [],
   "source": []
  },
  {
   "cell_type": "code",
   "execution_count": 24,
   "id": "dc8cf81f",
   "metadata": {},
   "outputs": [],
   "source": [
    "# df[df['Category'] == '1.9']\n",
    "df.drop(10472, inplace = True)"
   ]
  },
  {
   "cell_type": "code",
   "execution_count": 42,
   "id": "b86df1f3",
   "metadata": {},
   "outputs": [
    {
     "data": {
      "text/plain": [
       "<AxesSubplot:xlabel='Category'>"
      ]
     },
     "execution_count": 42,
     "metadata": {},
     "output_type": "execute_result"
    },
    {
     "data": {
      "image/png": "[encoded data removed]",
      "text/plain": [
       "<Figure size 1080x360 with 1 Axes>"
      ]
     },
     "metadata": {
      "needs_background": "light"
     },
     "output_type": "display_data"
    }
   ],
   "source": [
    "df.groupby('Category').count()['Rating'].sort_values(ascending = False).plot(kind = 'bar', figsize = (15,5))"
   ]
  },
  {
   "cell_type": "markdown",
   "id": "7fa5a14b",
   "metadata": {},
   "source": [
    "## How many paid apps in each category ?"
   ]
  },
  {
   "cell_type": "code",
   "execution_count": 35,
   "id": "4565c2d0",
   "metadata": {},
   "outputs": [
    {
     "name": "stdout",
     "output_type": "stream",
     "text": [
      "There are 92.62 % free apps and There are 7.38 % paid apps\n"
     ]
    }
   ],
   "source": [
    "f = 0\n",
    "for i in df['Type']:\n",
    "    if(i == 'Free'):\n",
    "        f += 1\n",
    "print('There are', round((f/(f+p))*100, 2), '% free apps', end = ' and ')\n",
    "\n",
    "p = 0\n",
    "for i in df['Type']:\n",
    "    if(i == 'Paid'):\n",
    "        p += 1\n",
    "print('There are', round((p/(p+f))*100, 2), '% paid apps')"
   ]
  },
  {
   "cell_type": "code",
   "execution_count": 40,
   "id": "1039aaab",
   "metadata": {},
   "outputs": [
    {
     "data": {
      "text/plain": [
       "<AxesSubplot:xlabel='Category'>"
      ]
     },
     "execution_count": 40,
     "metadata": {},
     "output_type": "execute_result"
    },
    {
     "data": {
      "image/png": "[encoded data removed]",
      "text/plain": [
       "<Figure size 1080x360 with 1 Axes>"
      ]
     },
     "metadata": {
      "needs_background": "light"
     },
     "output_type": "display_data"
    }
   ],
   "source": [
    "df.groupby('Category').count()['Reviews'].sort_values(ascending=False).plot(kind = 'bar', figsize = (15,5))"
   ]
  },
  {
   "cell_type": "code",
   "execution_count": null,
   "id": "ba5ecf65",
   "metadata": {},
   "outputs": [],
   "source": []
  },
  {
   "cell_type": "code",
   "execution_count": null,
   "id": "f753be5a",
   "metadata": {},
   "outputs": [],
   "source": []
  },
  {
   "cell_type": "code",
   "execution_count": null,
   "id": "0d0ead4d",
   "metadata": {},
   "outputs": [],
   "source": []
  },
  {
   "cell_type": "code",
   "execution_count": null,
   "id": "ee3296d8",
   "metadata": {},
   "outputs": [],
   "source": []
  }
 ],
 "metadata": {
  "kernelspec": {
   "display_name": "Python 3 (ipykernel)",
   "language": "python",
   "name": "python3"
  },
  "language_info": {
   "codemirror_mode": {
    "name": "ipython",
    "version": 3
   },
   "file_extension": ".py",
   "mimetype": "text/x-python",
   "name": "python",
   "nbconvert_exporter": "python",
   "pygments_lexer": "ipython3",
   "version": "3.9.7"
  }
 },
 "nbformat": 4,
 "nbformat_minor": 5
}
